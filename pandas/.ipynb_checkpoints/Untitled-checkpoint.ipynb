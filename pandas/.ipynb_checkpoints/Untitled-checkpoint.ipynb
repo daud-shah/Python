{
 "cells": [
  {
   "cell_type": "markdown",
   "id": "ba0443a7-8464-462d-85be-6189cd5fd147",
   "metadata": {},
   "source": [
    "# ✅ 1. Introduction to Pandas\n",
    "\n",
    "## What is Pandas?\n",
    "          – A Python library for data manipulation and data analysis.\n",
    "          – Essential for cleaning and preprocessing data in  Machine Learning"
   ]
  },
  {
   "cell_type": "code",
   "execution_count": null,
   "id": "3e18431d-d1dc-4bf6-9ae8-00bbcba621f5",
   "metadata": {},
   "outputs": [],
   "source": [
    "pip install pandas"
   ]
  },
  {
   "cell_type": "markdown",
   "id": "2dd679f2-1e35-4926-bb67-d0fb8881e561",
   "metadata": {},
   "source": [
    "# 2. Data Structures in Pandas\n",
    "\n",
    "### Series (One-Dimensional Data)\n",
    "    A Series is aone-dimensional array-like object that can hold any data type."
   ]
  },
  {
   "cell_type": "code",
   "execution_count": null,
   "id": "7c21ebe6-1a87-465c-830d-65a6d6964585",
   "metadata": {},
   "outputs": [],
   "source": [
    "import pandas as pd"
   ]
  },
  {
   "cell_type": "code",
   "execution_count": null,
   "id": "98cfb8ba-5524-469f-b844-e372e8a8b955",
   "metadata": {},
   "outputs": [],
   "source": [
    "s = pd.Series([10, 20, 30, 40])\n",
    "print(s)"
   ]
  },
  {
   "cell_type": "markdown",
   "id": "a0fb05d0-dfb5-4cd3-bd18-e85e68583f75",
   "metadata": {},
   "source": [
    "### DataFrame (Two-Dimensional Data)\n",
    "     A 2D labeled data structure with columns of potentially different types. Similar to an Excel spreadsheet or a relational database table."
   ]
  },
  {
   "cell_type": "code",
   "execution_count": null,
   "id": "fd28f4aa-78e2-4f81-8d0e-3e0e9a33c39b",
   "metadata": {},
   "outputs": [],
   "source": [
    "data = {'Name': ['Ali', 'Sara'], 'Age': [22, 24]}\n",
    "df = pd.DataFrame(data)\n",
    "print(df)"
   ]
  },
  {
   "cell_type": "code",
   "execution_count": null,
   "id": "ce9acc88-b87f-48de-98d7-29058b619088",
   "metadata": {},
   "outputs": [],
   "source": [
    "import seaborn as sns \n",
    "data = sns.load_dataset('titanic')\n",
    "data.to_csv('titanic.csv', index=False)"
   ]
  },
  {
   "cell_type": "markdown",
   "id": "07916511-c170-4153-8b88-a3e0aa00132e",
   "metadata": {},
   "source": [
    "### Load the Titanic Dataset"
   ]
  },
  {
   "cell_type": "code",
   "execution_count": null,
   "id": "78610dcf-7c1e-4c0c-9a4f-2c1273b190af",
   "metadata": {},
   "outputs": [],
   "source": [
    "df = pd.read_csv('titanic.csv')\n",
    "# df = pd.read_excel('file.xlsx')"
   ]
  },
  {
   "cell_type": "code",
   "execution_count": null,
   "id": "5dd6137f-e1c4-4acf-b433-ac41e3d7aacd",
   "metadata": {},
   "outputs": [],
   "source": [
    "df.head()"
   ]
  },
  {
   "cell_type": "code",
   "execution_count": null,
   "id": "99a5edb6-1d93-4d3f-b155-4d5934d31340",
   "metadata": {},
   "outputs": [],
   "source": [
    "df.tail()"
   ]
  },
  {
   "cell_type": "markdown",
   "id": "4cf349df-8552-4625-a101-6aebefed4c55",
   "metadata": {},
   "source": [
    "### Explore the Data"
   ]
  },
  {
   "cell_type": "code",
   "execution_count": null,
   "id": "f4f20522-35a1-402c-b68a-af006bd9468d",
   "metadata": {},
   "outputs": [],
   "source": [
    "# Shape (Rows and Columns)\n",
    "df.shape  # Output: (891, 12)"
   ]
  },
  {
   "cell_type": "code",
   "execution_count": null,
   "id": "f24b7c12-9591-44f0-a14b-e17c3e029a2f",
   "metadata": {},
   "outputs": [],
   "source": [
    "# Data Types and Null Values\n",
    "df.info()"
   ]
  },
  {
   "cell_type": "code",
   "execution_count": null,
   "id": "5483ff40-1503-4b7e-839e-c2a687eb832e",
   "metadata": {},
   "outputs": [],
   "source": [
    "# Summary Statistics\n",
    "df.describe()"
   ]
  },
  {
   "cell_type": "code",
   "execution_count": null,
   "id": "4f0f4bc6-e80b-4a29-87d3-b22cda055cfc",
   "metadata": {},
   "outputs": [],
   "source": [
    "df.describe(include='all')"
   ]
  },
  {
   "cell_type": "markdown",
   "id": "721ea307-059b-4920-bd84-da36566f10d2",
   "metadata": {},
   "source": [
    "### 4. Access Data"
   ]
  },
  {
   "cell_type": "code",
   "execution_count": null,
   "id": "c9a59ee9-988e-4972-b4d7-1981aab9df7f",
   "metadata": {},
   "outputs": [],
   "source": [
    "# Access a Single Column\n",
    "df['age']"
   ]
  },
  {
   "cell_type": "code",
   "execution_count": null,
   "id": "66e02059-75ce-49bc-82f1-ceefd672fda6",
   "metadata": {},
   "outputs": [],
   "source": [
    "# Access Multiple Columns\n",
    "df[['sex', 'age', 'fare']]"
   ]
  },
  {
   "cell_type": "code",
   "execution_count": null,
   "id": "8ba7f653-177c-4f9f-8390-52cd70799076",
   "metadata": {},
   "outputs": [],
   "source": [
    "# Access Rows by Label (loc)\n",
    "df.loc[0] # First row"
   ]
  },
  {
   "cell_type": "code",
   "execution_count": null,
   "id": "df23db17-8991-402f-a54f-303ca575d301",
   "metadata": {},
   "outputs": [],
   "source": [
    "# Access Rows by Position (iloc)\n",
    "df.iloc[0:5] # First 5 rows"
   ]
  },
  {
   "cell_type": "markdown",
   "id": "63c8c120-9b29-4ed4-ae3a-efdeb9dfc393",
   "metadata": {},
   "source": [
    " ### Data Cleaning"
   ]
  },
  {
   "cell_type": "code",
   "execution_count": null,
   "id": "71d14c4c-3f1f-4af2-b01b-754d26a4806b",
   "metadata": {},
   "outputs": [],
   "source": [
    "# Check for Missing Values\n",
    "print(df.isnull().sum())"
   ]
  },
  {
   "cell_type": "code",
   "execution_count": null,
   "id": "8fa9c3f2-3729-4f02-80f7-6d96162dee75",
   "metadata": {},
   "outputs": [],
   "source": [
    "# Fill Missing Values (Age with Mean)\n",
    "df['age'].fillna(df['age'].mean(), inplace=True)\n",
    "df['age'].head()"
   ]
  },
  {
   "cell_type": "code",
   "execution_count": null,
   "id": "7111f7ec-7bf4-48ed-8e65-e9d415969db9",
   "metadata": {},
   "outputs": [],
   "source": [
    "# Drop Rows with Missing Values (Embarked Column)\n",
    "df.dropna(subset=['embarked'], inplace=True)\n",
    "df.isnull().sum()"
   ]
  },
  {
   "cell_type": "code",
   "execution_count": null,
   "id": "cd49dc19-642c-4507-8685-59537f57f92a",
   "metadata": {},
   "outputs": [],
   "source": [
    "# Remove Duplicate Rows\n",
    "df.drop_duplicates(inplace=True)\n",
    "print(df.shape)\n"
   ]
  },
  {
   "cell_type": "code",
   "execution_count": null,
   "id": "be8f036a-7d86-4d46-9743-cbcc4827a399",
   "metadata": {},
   "outputs": [],
   "source": [
    "# Change Data Type (Convert Age to Integer)\n",
    "df['age'] = df['age'].astype(int)\n",
    "print(df.info())"
   ]
  },
  {
   "cell_type": "markdown",
   "id": "130ed713-8210-4bc7-aaa6-a709bb5ec37c",
   "metadata": {},
   "source": [
    "### Filtering and Sorting"
   ]
  },
  {
   "cell_type": "code",
   "execution_count": null,
   "id": "4eba9587-1299-4e6c-b015-3837a55503d5",
   "metadata": {},
   "outputs": [],
   "source": [
    "# Filter Passengers Older than 30\n",
    "adults = df[df['age'] > 30]\n",
    "adults.head()"
   ]
  },
  {
   "cell_type": "code",
   "execution_count": null,
   "id": "61e0444c-04a9-40ed-ba8e-af3d0a83c802",
   "metadata": {},
   "outputs": [],
   "source": [
    "# Filter Passengers Who Survived\n",
    "survivors = df[df['survived'] == 1]\n",
    "survivors.head()"
   ]
  },
  {
   "cell_type": "code",
   "execution_count": null,
   "id": "7c3a3d68-6cf2-4719-8e01-2d0400215fdd",
   "metadata": {},
   "outputs": [],
   "source": [
    "# Sort by Fare (Descending Order)\n",
    "sorted_df = df.sort_values('fare', ascending=False)\n",
    "sorted_df.head()"
   ]
  },
  {
   "cell_type": "markdown",
   "id": "40941404-735b-427c-a435-370ee0ff9455",
   "metadata": {},
   "source": [
    "### Save Cleaned Data"
   ]
  },
  {
   "cell_type": "code",
   "execution_count": null,
   "id": "3da96580-f9db-4108-96a4-9ddaa89fc7fd",
   "metadata": {},
   "outputs": [],
   "source": [
    "# Save to CSV\n",
    "df.to_csv('cleaned_titanic.csv', index=False)"
   ]
  },
  {
   "cell_type": "code",
   "execution_count": null,
   "id": "cf8060e4-8179-4189-84cc-e013616a4363",
   "metadata": {},
   "outputs": [],
   "source": [
    "df.to_excel('output.xlsx', index=False)"
   ]
  }
 ],
 "metadata": {
  "kernelspec": {
   "display_name": "Python 3 (ipykernel)",
   "language": "python",
   "name": "python3"
  },
  "language_info": {
   "codemirror_mode": {
    "name": "ipython",
    "version": 3
   },
   "file_extension": ".py",
   "mimetype": "text/x-python",
   "name": "python",
   "nbconvert_exporter": "python",
   "pygments_lexer": "ipython3",
   "version": "3.12.3"
  }
 },
 "nbformat": 4,
 "nbformat_minor": 5
}
