{
 "cells": [
  {
   "cell_type": "markdown",
   "id": "b0a852c4-7dd2-49bd-b1ea-48b1c86f367b",
   "metadata": {},
   "source": [
    "# Control Flow Statements in Python\n",
    "\n",
    "Control flow statements in Python allow us to **control the execution flow** of a program based on certain conditions or repetitive tasks. They are fundamental in programming to add decision-making and looping capabilities.\n",
    "\n",
    "---\n",
    "\n",
    "## Types of Control Flow Statements\n",
    "\n",
    "### 1. Conditional Statements (Decision-Making)\n",
    "\n",
    "These statements allow the program to take different actions based on conditions.\n",
    "\n",
    "- **If Statement**: Executes a block of code if the condition is `True`.\n",
    "\n",
    "```python\n",
    "num = 5\n",
    "if num > 0:\n",
    "    print(\"The number is positive\")\n"
   ]
  },
  {
   "cell_type": "code",
   "execution_count": 2,
   "id": "44ccb302-b4ba-41b7-91c6-675b1217ab68",
   "metadata": {},
   "outputs": [
    {
     "name": "stdout",
     "output_type": "stream",
     "text": [
      "The number is not positive\n"
     ]
    }
   ],
   "source": [
    "num = -3\r\n",
    "if num > 0:\r\n",
    "    print(\"The number is positive\")\r\n",
    "else:\r\n",
    "    print(\"The number is not positive\")\r\n"
   ]
  },
  {
   "cell_type": "markdown",
   "id": "5ffae320-edd2-4880-bb1c-cd17b7cb25eb",
   "metadata": {},
   "source": [
    "### Elif (Else If) Statement\r\n",
    "\r\n",
    "The `elif` statement is short for \"else if\" and allows multiple conditions to be checked sequentially. \r\n",
    "Only the first condition that evaluates to `True` will execute, and the rest will be ignored.\r\n",
    "\r\n",
    "#### Syntax:\r\n",
    "```python\r\n",
    "if condition1:\r\n",
    "    # Code block for condition1\r\n",
    "elif condition2:\r\n",
    "    # Code block for condition2\r\n",
    "else:\r\n",
    "    # Code block if none of the conditions are True\r\n"
   ]
  },
  {
   "cell_type": "code",
   "execution_count": 6,
   "id": "0c8fd0ee-bf53-4290-9f76-265e1006ea01",
   "metadata": {},
   "outputs": [
    {
     "name": "stdout",
     "output_type": "stream",
     "text": [
      "Negative number\n"
     ]
    }
   ],
   "source": [
    "num = -1\n",
    "if num > 0:\n",
    "    print(\"Positive number\")\n",
    "elif num == 0:\n",
    "    print(\"Zero\")\n",
    "else:\n",
    "    print(\"Negative number\")\n"
   ]
  },
  {
   "cell_type": "code",
   "execution_count": 12,
   "id": "3671ca61-bf77-4d33-b67f-12b41cbde1c1",
   "metadata": {},
   "outputs": [
    {
     "name": "stdin",
     "output_type": "stream",
     "text": [
      "Enter your marks:  101\n"
     ]
    },
    {
     "name": "stdout",
     "output_type": "stream",
     "text": [
      "Grade: A\n"
     ]
    }
   ],
   "source": [
    "# Examples\n",
    "# Grading System\n",
    "marks = int(input(\"Enter your marks: \"))\n",
    "\n",
    "if marks >= 90:\n",
    "    print(\"Grade: A\")\n",
    "elif marks >= 80:\n",
    "    print(\"Grade: B\")\n",
    "elif marks >= 70:\n",
    "    print(\"Grade: C\")\n",
    "elif marks >= 60:\n",
    "    print(\"Grade: D\")\n",
    "else:\n",
    "    print(\"Grade: F\")\n"
   ]
  },
  {
   "cell_type": "code",
   "execution_count": 14,
   "id": "26c4f83a-168b-4159-85db-71f8296af3f5",
   "metadata": {},
   "outputs": [
    {
     "name": "stdin",
     "output_type": "stream",
     "text": [
      "Enter the temperature in °C:  37\n"
     ]
    },
    {
     "name": "stdout",
     "output_type": "stream",
     "text": [
      "It's hot!\n"
     ]
    }
   ],
   "source": [
    "# Temperature Check\n",
    "temperature = int(input(\"Enter the temperature in °C: \"))\n",
    "\n",
    "if temperature > 30:\n",
    "    print(\"It's hot!\")\n",
    "elif temperature > 20:\n",
    "    print(\"It's warm.\")\n",
    "elif temperature > 10:\n",
    "    print(\"It's cool.\")\n",
    "elif temperature > 0:\n",
    "    print(\"It's cold.\")\n",
    "else:\n",
    "    print(\"It's freezing!\")\n"
   ]
  },
  {
   "cell_type": "code",
   "execution_count": 16,
   "id": "9f40353d-f697-4f88-b599-c7c1b46637cf",
   "metadata": {},
   "outputs": [
    {
     "name": "stdin",
     "output_type": "stream",
     "text": [
      "Enter the traffic light color (red/yellow/green):  red\n"
     ]
    },
    {
     "name": "stdout",
     "output_type": "stream",
     "text": [
      "Stop!\n"
     ]
    }
   ],
   "source": [
    "# Traffic Light System\n",
    "light = input(\"Enter the traffic light color (red/yellow/green): \").lower()\n",
    "\n",
    "if light == \"red\":\n",
    "    print(\"Stop!\")\n",
    "elif light == \"yellow\":\n",
    "    print(\"Get Ready!\")\n",
    "elif light == \"green\":\n",
    "    print(\"Go!\")\n",
    "else:\n",
    "    print(\"Invalid input! Please enter red, yellow, or green.\")\n"
   ]
  },
  {
   "cell_type": "markdown",
   "id": "24e99609-5c85-4b06-a582-dbf81019127d",
   "metadata": {},
   "source": [
    "## Task \n",
    "Task: Age Group Classification\n",
    "\n",
    "Objective:\n",
    "Create a Python program that classifies a person based on their age into different categories: child, teenager, adult, or senior citizen.\n",
    "\n",
    "Child: Age less than 13\n",
    "\n",
    "Teenager: Age between 13 and 19\n",
    "\n",
    "Adult: Age between 20 and 59\n",
    "\n",
    "Senior Citizen: Age 60 or above"
   ]
  },
  {
   "cell_type": "markdown",
   "id": "68ddd3e4-dc76-452e-a443-4e58c4ceba84",
   "metadata": {},
   "source": [
    "### Assignment 1: Number Range Identifier\r\n",
    "\r\n",
    "**Objective:**  \r\n",
    "Write a Python program that classifies a given number into different ranges.\r\n",
    "\r\n",
    "**Instructions:**\r\n",
    "\r\n",
    "1. Prompt the user to enter a number.\r\n",
    "2. Use conditional statements (`if`, `elif`, and `else`) to classify the number into the following ranges:\r\n",
    "    - Negative numbers (less than 0)\r\n",
    "    - Zero (exactly 0)\r\n",
    "    - Positive numbers (greater than 0)\r\n",
    "3. Display the appropriate message based on the number's classification.\r\n",
    "\r\n",
    "**Example Output:**\r\n",
    "- Input: `-5`\r\n",
    "  - Output: `The number is negative.`\r\n",
    "- Input: `0`\r\n",
    "  - Output: `The number is zero.`\r\n",
    "- Input: `10`\r\n",
    "  - Output: `The number is positive.`\r\n",
    "\r\n",
    "---\r\n",
    "\r\n",
    "### Assignment 2: Day of the Week\r\n",
    "\r\n",
    "**Objective:**  \r\n",
    "Write a Python program that asks the user to enter a number corresponding to a day of the week and prints the name of the day.\r\n",
    "\r\n",
    "**Instructions:**\r\n",
    "\r\n",
    "1. Prompt the user to enter a number between 1 and 7, where:\r\n",
    "   - `1` = Monday\r\n",
    "   - `2` = Tuesday\r\n",
    "   - `3` = Wednesday\r\n",
    "   - `4` = Thursday\r\n",
    "   - `5` = Friday\r\n",
    "   - `6` = Saturday\r\n",
    "   - `7` = Sunday\r\n",
    "2. Display the name of the day corresponding to the entered number.\r\n",
    "3. If the user enters a number outside the range, print \"Invalid input.\"\r\n",
    "\r\n",
    "**Example Output:**\r\n",
    "- Input: `3`\r\n",
    "  - Output: `Wednesday`\r\n",
    "- Input: `6`\r\n",
    "  - Output: `Saturday`\r\n",
    "- Input: `9`\r\n",
    "  - Output: `Invalid input`\r\n",
    "\r\n",
    "---\r\n",
    "\r\n",
    "### Assignment 3: BMI (Body Mass Index) Calculator\r\n",
    "\r\n",
    "**Objective:**  \r\n",
    "Write a Python program that calculates the Body Mass Index (BMI) of a person.\r\n",
    "\r\n",
    "**Instructions:**\r\n",
    "\r\n",
    "1. Prompt the user to enter their weight in kilograms.\r\n",
    "2. Prompt the user to enter the\n",
    "4.  t in mete\n",
    "3lculate the using the formula:  \r\n",
    "   \\[\r\n",
    "   \\text{BMI} = \\frac{\\text{weight}}{\\text{height}^2}\r\n",
    "   \\]\r\n",
    "4. Display the BMI result and classify the person based on their BMI:\r\n",
    "    - BMI < 18.5 = Underweight\r\n",
    "    - 18.5 <= BMI < 24.9 = Normal weight\r\n",
    "    - 25 <= BMI < 29.9 = Overweight\r\n",
    "    - BMI >= 30 = Obese\r\n",
    "\r\n",
    "**Example Output:**\r\n",
    "- Input: `Weight: 70, Height: 1.75`\r\n",
    "  - Output: `Your BMI is 22.86. You have a normal weight.`\r\n",
    "- Input: `Weight: 95, Height: 1.80`\r\n",
    "  - Output: `Your BMI is 29.32. You are overweight.`\r\n",
    "\r\n",
    "---\r\n",
    "\r\n",
    "### Assignment 4: Discount System\r\n",
    "\r\n",
    "**Objective:**  \r\n",
    "Write a Python program that calculates the discount on a product based on the total price.\r\n",
    "\r\n",
    "**Instructions:**\r\n",
    "\r\n",
    "1. Prompt the user to enter the total price of the product.\r\n",
    "2. Apply the following discount rules:\r\n",
    "    - If the total price is less than $100, no discount is applied.\r\n",
    "    - If the total price is between $100 and $500 (inclusive), a 10% discount is applied.\r\n",
    "    - If the total price is greater than $500, a 20% discount is applied.\r\n",
    "3. Display the original price, the discount applied, and the final price after the discount.\r\n",
    "\r\n",
    "**Example Output:**\r\n",
    "- Input: `Total Price: 450`\r\n",
    "  - Output: `Original Price: $450.00, Discount: $45.00, Final Price: $405.00`\r\n",
    "- Input: `Total Price: 600`\r\n",
    "  - Output: `Original Price: $600.00, Discount: $120.00, Final Price: $480.00`\r\n",
    "\r\n",
    "---\r\n"
   ]
  },
  {
   "cell_type": "markdown",
   "id": "efb178fc-224c-4c67-9999-6842eaaf40e3",
   "metadata": {},
   "source": [
    "## **Loops in Python**\n",
    "\n",
    "### **What is a Loop?**\n",
    "\n",
    "A **loop** is a programming concept that allows you to repeatedly execute a block of code multiple times, without having to write the same code again and again. Loops are useful when you need to perform repetitive tasks, such as iterating over a collection or running code a certain number of times.\n",
    "\n",
    "### **Types of Loops in Python**\n",
    "\n",
    "There are two main types of loops in Python:\n",
    "\n",
    "1. **For Loop**\n",
    "2. **While Loop**\n",
    "\n",
    "Let's break down each type:\n",
    "\n",
    "---\n",
    "\n",
    "### **1. For Loop**\n",
    "\n",
    "The **`for` loop** is used when you want to iterate over a sequence (such as a list, string, or range) or when you know beforehand how many times you want to execute the loop.\n",
    "\n",
    "#### **Syntax of a For Loop:**\n",
    "\n",
    "```python\n",
    "for variable in sequence:\n",
    "    # code to execute\n",
    "\n",
    "variable: This is the temporary variable that will take the value of each item in the sequence.\n",
    "sequence: This can be a list, string, range, or other iterable objects.\n"
   ]
  },
  {
   "cell_type": "code",
   "execution_count": 20,
   "id": "3e872ef8-10d7-46eb-af94-8360020d0895",
   "metadata": {},
   "outputs": [
    {
     "name": "stdout",
     "output_type": "stream",
     "text": [
      "0\n",
      "1\n",
      "2\n",
      "3\n",
      "4\n",
      "5\n"
     ]
    }
   ],
   "source": [
    "for i in range(0, 6):  # range(1, 6) gives numbers from 1 to 5\n",
    "    print(i)"
   ]
  },
  {
   "cell_type": "markdown",
   "id": "13765882-ba04-42ce-85aa-fdf215b56b25",
   "metadata": {},
   "source": [
    "## 2. **While Loop in Python**\r\n",
    "\r\n",
    "### **What is a While Loop?**\r\n",
    "\r\n",
    "A **while loop** is used to repeat a block of code as long as a specified condition is **True**. The loop will continue executing the code inside it until the condition becomes **False**.\r\n",
    "\r\n",
    "### **Syntax of a While Loop:**\r\n",
    "\r\n",
    "```python\r\n",
    "while condition:\r\n",
    "    # code \n",
    "\n",
    "condition: This is an expression that is evaluated before each iteration of the loop. If the condition is True, the code inside the loop will run. If the condition is False, the loop will stop.\n",
    "The loop continues to run until the condition becomes Falseto execute\r\n"
   ]
  },
  {
   "cell_type": "code",
   "execution_count": 22,
   "id": "dff37b47-42b2-4acc-a7c9-36d4fb665f0b",
   "metadata": {},
   "outputs": [
    {
     "name": "stdout",
     "output_type": "stream",
     "text": [
      "5\n",
      "4\n",
      "3\n",
      "2\n",
      "1\n"
     ]
    }
   ],
   "source": [
    "count = 5\n",
    "while count > 0:\n",
    "    print(count)\n",
    "    count -= 1  # Decrease count by 1\n"
   ]
  },
  {
   "cell_type": "code",
   "execution_count": 24,
   "id": "9eda1bfa-b313-46ad-9c4f-a4bc59c9d51b",
   "metadata": {},
   "outputs": [
    {
     "name": "stdout",
     "output_type": "stream",
     "text": [
      "1\n",
      "2\n",
      "3\n",
      "4\n",
      "5\n",
      "6\n",
      "7\n",
      "8\n",
      "9\n",
      "10\n"
     ]
    }
   ],
   "source": [
    "# Write a program that prints numbers from 1 to 10 using a while loop.\n",
    "\n",
    "# Initialize the counter variable\n",
    "count = 1\n",
    "\n",
    "# Start a while loop to print numbers from 1 to 10\n",
    "while count <= 10:\n",
    "    print(count)\n",
    "    count += 1  # Increment the counter by 1 after each iteration\n"
   ]
  },
  {
   "cell_type": "code",
   "execution_count": 26,
   "id": "4ac3505a-9ced-4424-a5a7-d3c45c94e167",
   "metadata": {},
   "outputs": [
    {
     "name": "stdin",
     "output_type": "stream",
     "text": [
      "Enter a number:  60\n",
      "Please enter a number greater than 100:  68\n",
      "Please enter a number greater than 100:  100\n",
      "Please enter a number greater than 100:  115\n"
     ]
    },
    {
     "name": "stdout",
     "output_type": "stream",
     "text": [
      "Thank you! You entered a number greater than 100.\n"
     ]
    }
   ],
   "source": [
    "# Create a program that keeps asking the user to enter a number until they enter a number greater than 100.\n",
    "# Initialize the user input variable\n",
    "number = int(input(\"Enter a number: \"))\n",
    "\n",
    "# Keep asking the user for a number until it's greater than 100\n",
    "while number <= 100:\n",
    "    number = int(input(\"Please enter a number greater than 100: \"))\n",
    "\n",
    "print(\"Thank you! You entered a number greater than 100.\")\n"
   ]
  },
  {
   "cell_type": "code",
   "execution_count": 30,
   "id": "91dd7292-81d0-42ec-858a-6389b1a3d361",
   "metadata": {},
   "outputs": [
    {
     "name": "stdin",
     "output_type": "stream",
     "text": [
      "Guess the secret number (between 1 and 10):  33\n"
     ]
    },
    {
     "name": "stdout",
     "output_type": "stream",
     "text": [
      "Wrong guess, try again.\n"
     ]
    },
    {
     "name": "stdin",
     "output_type": "stream",
     "text": [
      "Guess the secret number again:  43\n"
     ]
    },
    {
     "name": "stdout",
     "output_type": "stream",
     "text": [
      "Wrong guess, try again.\n"
     ]
    },
    {
     "name": "stdin",
     "output_type": "stream",
     "text": [
      "Guess the secret number again:  7\n"
     ]
    },
    {
     "name": "stdout",
     "output_type": "stream",
     "text": [
      "Congratulations! You guessed the correct number.\n"
     ]
    }
   ],
   "source": [
    "# Guess the Number Game\n",
    "# Secret number\n",
    "secret_number = 7\n",
    "\n",
    "# Ask the user to guess the number\n",
    "guess = int(input(\"Guess the secret number (between 1 and 10): \"))\n",
    "\n",
    "# Keep asking until the user guesses the correct number\n",
    "while guess != secret_number:\n",
    "    print(\"Wrong guess, try again.\")\n",
    "    guess = int(input(\"Guess the secret number again: \"))\n",
    "\n",
    "print(\"Congratulations! You guessed the correct number.\")\n"
   ]
  },
  {
   "cell_type": "code",
   "execution_count": null,
   "id": "df92d16f-f62b-4a68-9420-e69171899712",
   "metadata": {},
   "outputs": [],
   "source": [
    "# Even or Odd Number Checker\n",
    "# Loop through numbers from 1 to 10\n",
    "for num in range(1, 11):\n",
    "    if num % 2 == 0:\n",
    "        print(f\"{num} is even\")\n",
    "    else:\n",
    "        print(f\"{num} is odd\")\n"
   ]
  },
  {
   "cell_type": "code",
   "execution_count": null,
   "id": "2cbcfc4f-7914-466a-86b2-b17b7ea5b3f7",
   "metadata": {},
   "outputs": [],
   "source": [
    "# Multiplication Table Using for Loop\n",
    "# Get the number for the multiplication table\n",
    "num = int(input(\"Enter a number for the multiplication table: \"))\n",
    "\n",
    "# Check if the number is valid\n",
    "if 1 <= num <= 10:\n",
    "    # Loop through the numbers 1 to 10\n",
    "    for i in range(1, 11):\n",
    "        print(f\"{num} x {i} = {num * i}\")\n",
    "else:\n",
    "    print(\"Please enter a number between 1 and 10.\")\n"
   ]
  },
  {
   "cell_type": "markdown",
   "id": "289b4e12-04b9-4e90-a716-e7da1a162656",
   "metadata": {},
   "source": [
    "#  Assignment\n",
    ").\r\n",
    "\r\n",
    "---\r\n",
    "\r\n",
    "## Task 1: Print Numbers in a Range\r\n",
    "\r\n",
    "Write a program that prints all numbers from `n` to `m` (inclusive), where `n` and `m` are provided by the user. The program should ask the user for both numbers and print each number in the speced range.\r\n",
    "ma:\n",
    "      mp\n",
    "l    Enter the starting number: 5 Enter the ending number: 10 Output: 5 6 7 8 9 10\n",
    "\r\n",
    "---\r\n",
    "\r\n",
    "## Task 2: Sum of Even Numbers in a Range\r\n",
    "\r\n",
    "Write a program that calculates and prints the sum of all even numbers between two given numbers `n` and `m` (inclusive). If no even numbers exist in the range, print `\n",
    "\r\n",
    "### E\n",
    "xample Input/O\n",
    "     Enter the starting number: 4 Enter the ending number: 10 Output: The sum of even numbers is: 30\n",
    "\n",
    "\r\n",
    "---\r\n",
    "\r\n",
    "## Task 3: Countdown Timer\r\n",
    "\r\n",
    "Write a program that takes a number `n` from the user and counts down from `n` to `0`. Display each number as it counts down. When it reaches `0`, print \"Countdown finished\n",
    "\r\n",
    "##\n",
    "\n",
    "        xample Input/Ou     Enter a number to start the countdown: 5 Output: 5 4 3 2 1 Countdown finished!\n",
    "\n",
    "\r\n",
    "---\r\n",
    "\r\n",
    "## Task 4: Factorial Calculation\r\n",
    "\r\n",
    "Write a program that calculates the factorial of a number entered by the user. Use a `while` loop to calculate the factorial. If the user enters a negative number, print an error m\n",
    "\n",
    "     \r\n",
    "### Example Input/Ou    Enter a number to calculate its factorial: 5 Output: put:\r\n",
    "\r\n",
    "utput:\r\n",
    "\r\n",
    "e Input/Output:\r\n",
    "\r\n"
   ]
  },
  {
   "cell_type": "markdown",
   "id": "c2451ebb-f0a1-4a10-ad23-001dfbcd67b7",
   "metadata": {},
   "source": [
    "# Strings in Python\r\n",
    "\r\n",
    "A **string** is a sequence of characters enclosed in single, double, or triple quotes. It is one of the most important data types in Python and is widely used.\r\n",
    "\r\n",
    "---\r\n",
    "\r\n",
    "## **1. Creating Strings**\r\n",
    "\r\n",
    "You can create strings using:\r\n",
    "- **Single Quotes**: `'Hello'`\r\n",
    "- **Double Quotes**: `\"World\"`\r\n",
    "- **Triple Quotes**: `'''This is a multi-line string.'''`\r\n",
    "\r\n",
    "### **Examples**:\r\n",
    "```python\r\n",
    "string1 = 'Hello'\r\n",
    "string2 = \"World\"\r\n",
    "string3 = '''This is\r\n",
    "a multi-line string.'''\r\n"
   ]
  },
  {
   "cell_type": "code",
   "execution_count": 34,
   "id": "690f47c2-5071-486e-aab5-24c25b53a75c",
   "metadata": {},
   "outputs": [
    {
     "name": "stdout",
     "output_type": "stream",
     "text": [
      "amar\n"
     ]
    }
   ],
   "source": [
    "name = \"amar\"\n",
    "print(name)"
   ]
  },
  {
   "cell_type": "markdown",
   "id": "9e2c7c39-8dc5-467a-acd1-25ab4e3a2258",
   "metadata": {},
   "source": [
    "# Accessing Strings in Python\r\n",
    "\r\n",
    "Strings in Python can be accessed using **indexing** and **slicing**. Each character in a string has a specific position (index).\r\n",
    "\r\n",
    "---\r\n",
    "\r\n",
    "## **1. Indexing**\r\n",
    "\r\n",
    "- **Positive Indexing**: Starts from `0` for the first character.\r\n",
    "- **Negative Indexing**: Starts from `-1` for the last ch ast character)\r\n"
   ]
  },
  {
   "cell_type": "code",
   "execution_count": 40,
   "id": "a0918eb7-cd88-4cd2-90e0-76f6d6db062d",
   "metadata": {},
   "outputs": [
    {
     "name": "stdout",
     "output_type": "stream",
     "text": [
      "P\n",
      "n\n"
     ]
    }
   ],
   "source": [
    "my_string = \"Python\"\n",
    "print(my_string[0])   # Output: P (1st character)\n",
    "print(my_string[-1])  # Output: n (last character)"
   ]
  },
  {
   "cell_type": "markdown",
   "id": "36b50f90-a5eb-4f2c-9ded-c95808322839",
   "metadata": {},
   "source": [
    "## **2. Slicing Strings**\n",
    "\n",
    "Slicing allows you to extract a portion of a string. Use the syntax `string[start:end:step]`.\n",
    "\n",
    "### **Examples**:\n",
    "```python\n",
    "my_string = \"Python\"\n",
    "\n",
    "# Basic Slicing\n",
    "print(my_string[0:3])   # Output: Pyt (characters from index 0 to 2)\n",
    "print(my_string[2:])    # Output: thon (from index 2 to the end)\n",
    "\n",
    "# Slicing with Steps\n",
    "print(my_string[0:6:2])  # Output: Pto (every 2nd character from index 0 to 5)\n",
    "\n",
    "# Negative Slicing\n",
    "print(my_string[-3:])   # Output: hon (last 3 characters)\n",
    "print(my_string[::-1])  # Output: nohtyP (reversed string)\n"
   ]
  },
  {
   "cell_type": "code",
   "execution_count": 44,
   "id": "7bd5d260-dba0-431f-aab5-d9621e1b154d",
   "metadata": {},
   "outputs": [
    {
     "name": "stdout",
     "output_type": "stream",
     "text": [
      "Pyt\n",
      "thon\n"
     ]
    }
   ],
   "source": [
    "print(my_string[0:3])   # Output: Pyt (characters from index 0 to 2)\n",
    "print(my_string[2:])    # Output: thon (from index 2 to the end)\n"
   ]
  },
  {
   "cell_type": "code",
   "execution_count": 46,
   "id": "e0817bb3-fbc6-4f0a-8949-1c800b2865b0",
   "metadata": {},
   "outputs": [
    {
     "name": "stdout",
     "output_type": "stream",
     "text": [
      "Pto\n"
     ]
    }
   ],
   "source": [
    "print(my_string[0:6:2])  # Output: Pto (every 2nd character from index 0 to 5)\n",
    " \"Python\""
   ]
  },
  {
   "cell_type": "markdown",
   "id": "c6a5015d-3c84-46f2-a10c-011d9852fd4c",
   "metadata": {},
   "source": [
    "# String Operations in Python\n",
    "\n",
    "Strings are one of the most commonly used data types in Python. Python provides several operations and methods to manipulate strings effectively. Here’s a comprehensive guide to understanding **String Operations**:\n",
    "\n",
    "---\n",
    "\n",
    "## **a. Concatenation**\n",
    "\n",
    "Concatenation means joining two or more strings together using the `+` operator.\n",
    "\n"
   ]
  },
  {
   "cell_type": "code",
   "execution_count": 48,
   "id": "f152a8a4-b8ed-4bc2-a3aa-08fc1345e1f6",
   "metadata": {},
   "outputs": [
    {
     "name": "stdout",
     "output_type": "stream",
     "text": [
      "Hello World\n"
     ]
    }
   ],
   "source": [
    "str1 = \"Hello\"\n",
    "str2 = \"World\"\n",
    "result = str1 + \" \" + str2\n",
    "print(result)  # Output: Hello World"
   ]
  },
  {
   "cell_type": "markdown",
   "id": "149d8662-d327-4e23-aece-08e820862efc",
   "metadata": {},
   "source": [
    " # b. Repetition:\n",
    "        Repeat a string multiple times using the * operator."
   ]
  },
  {
   "cell_type": "markdown",
   "id": "e2f7d8b5-7725-4459-90c5-a93487d6af01",
   "metadata": {},
   "source": [
    "print(\"Python \" * 3)  # Output: Python Python Python"
   ]
  },
  {
   "cell_type": "markdown",
   "id": "dcb63a7c-5ecb-4b5b-9d19-4fb70f3c517d",
   "metadata": {},
   "source": [
    "# c. Length:\n",
    "     Find the number of characters in a string using len()."
   ]
  },
  {
   "cell_type": "code",
   "execution_count": 50,
   "id": "580b7f04-9a35-4822-b11b-9e738609feca",
   "metadata": {},
   "outputs": [
    {
     "name": "stdout",
     "output_type": "stream",
     "text": [
      "5\n"
     ]
    }
   ],
   "source": [
    "my_string = \"Hello\"\n",
    "print(len(my_string))  # Output: 5\n"
   ]
  },
  {
   "cell_type": "markdown",
   "id": "a1cacd93-9ba3-46be-9798-d60d8498f987",
   "metadata": {},
   "source": [
    "# d.Membership:\n",
    "    Check if a substring exists in a string using in or not in."
   ]
  },
  {
   "cell_type": "code",
   "execution_count": 52,
   "id": "2506e35e-a64c-4be9-8204-a67842d16d25",
   "metadata": {},
   "outputs": [
    {
     "name": "stdout",
     "output_type": "stream",
     "text": [
      "True\n",
      "True\n"
     ]
    }
   ],
   "source": [
    "print(\"Py\" in \"Python\")  # Output: True\n",
    "print(\"Java\" not in \"Python\")  # Output: True\n"
   ]
  },
  {
   "cell_type": "markdown",
   "id": "47f37e90-a6ea-4d92-b9c7-5e486b3cca1d",
   "metadata": {},
   "source": [
    "# 4. String Methods\n",
    "     Python provides many methods to work with strings.\n",
    "\n",
    "## a) Changing Case:\n",
    "     upper(): Converts to uppercase.\n",
    "     lower(): Converts to lowercase.\n",
    "     title(): Converts to title case."
   ]
  },
  {
   "cell_type": "code",
   "execution_count": 64,
   "id": "8a73f025-1482-421d-9a7a-40aa8787c155",
   "metadata": {},
   "outputs": [
    {
     "name": "stdout",
     "output_type": "stream",
     "text": [
      "PYTHON PROGRAMMING\n",
      "Python Programming\n",
      "amar\n"
     ]
    }
   ],
   "source": [
    "s = \"python programming\"\n",
    "a= \"AMAR\"\n",
    "print(s.upper())  # Output: PYTHON PROGRAMMING\n",
    "print(s.title())  # Output: Python Programming\n",
    "print(a.lower())"
   ]
  },
  {
   "cell_type": "markdown",
   "id": "1001136d-fb8f-4f06-b18f-fdacf03c4e6c",
   "metadata": {},
   "source": [
    "# b) Removing Spaces:\n",
    "     strip(): Removes leading and trailing spaces."
   ]
  },
  {
   "cell_type": "code",
   "execution_count": 66,
   "id": "7b35bf33-a5bc-4c2f-b5e4-95d75af3917e",
   "metadata": {},
   "outputs": [
    {
     "name": "stdout",
     "output_type": "stream",
     "text": [
      "Hello\n"
     ]
    }
   ],
   "source": [
    "s = \"  Hello  \"\n",
    "print(s.strip())  # Output: Hello\n"
   ]
  },
  {
   "cell_type": "markdown",
   "id": "7f160895-a7f7-4d97-af61-e951573102a2",
   "metadata": {},
   "source": [
    "# c) Replace Substrings:\n",
    "    Replace a substring with another using replace()."
   ]
  },
  {
   "cell_type": "code",
   "execution_count": 68,
   "id": "e97c7227-4f33-49ff-b7ce-d123c326dc13",
   "metadata": {},
   "outputs": [
    {
     "name": "stdout",
     "output_type": "stream",
     "text": [
      "I love coding\n"
     ]
    }
   ],
   "source": [
    "s = \"I love Python\"\n",
    "print(s.replace(\"Python\", \"coding\"))  # Output: I love coding\n"
   ]
  },
  {
   "cell_type": "markdown",
   "id": "bd9c9714-d758-4475-ba86-74de99021680",
   "metadata": {},
   "source": [
    "# d) Splitting and Joining:\n",
    "     split(): Splits a string into a list.\n",
    "     join(): Joins a list of strings into one string."
   ]
  },
  {
   "cell_type": "code",
   "execution_count": 70,
   "id": "7afdbe8e-c99a-43e4-944a-01d33a6ed25a",
   "metadata": {},
   "outputs": [
    {
     "name": "stdout",
     "output_type": "stream",
     "text": [
      "['Python', 'is', 'fun']\n",
      "Python is fun\n"
     ]
    }
   ],
   "source": [
    "s = \"Python is fun\"\n",
    "words = s.split()\n",
    "print(words)  # Output: ['Python', 'is', 'fun']\n",
    "\n",
    "joined = \" \".join(words)\n",
    "print(joined)  # Output: Python is fun\n"
   ]
  },
  {
   "cell_type": "markdown",
   "id": "994a5734-d346-48fa-8886-cda5c9a17746",
   "metadata": {},
   "source": [
    "# 5. Escape Characters\n",
    "     Escape characters let you include special characters in strings.\n",
    "\n",
    "| Escape Character | Description                |\r\n",
    "|------------------|----------------------------|\r\n",
    "| `\\'`             | Single quote               |\r\n",
    "| `\\\"`             | Double quote               |\r\n",
    "| `\\\\`             | Backslash                  |\r\n",
    "| `\\n`             | New line                   |\r\n",
    "| `\\t`             | Tab in markdown            |\r\n"
   ]
  },
  {
   "cell_type": "code",
   "execution_count": 72,
   "id": "28e0dc6c-2d3f-4fa3-ba3f-d955c498cf56",
   "metadata": {},
   "outputs": [
    {
     "name": "stdout",
     "output_type": "stream",
     "text": [
      "Python is \"awesome\".\n",
      "Let's learn it!\n"
     ]
    }
   ],
   "source": [
    "s = \"Python is \\\"awesome\\\".\\nLet's learn it!\"\n",
    "print(s)\n"
   ]
  },
  {
   "cell_type": "code",
   "execution_count": 74,
   "id": "c537d3f8-145f-4933-8107-6da0c5691689",
   "metadata": {},
   "outputs": [
    {
     "ename": "SyntaxError",
     "evalue": "unterminated string literal (detected at line 2) (745106797.py, line 2)",
     "output_type": "error",
     "traceback": [
      "\u001b[1;36m  Cell \u001b[1;32mIn[74], line 2\u001b[1;36m\u001b[0m\n\u001b[1;33m    Let's learn it!\u001b[0m\n\u001b[1;37m       ^\u001b[0m\n\u001b[1;31mSyntaxError\u001b[0m\u001b[1;31m:\u001b[0m unterminated string literal (detected at line 2)\n"
     ]
    }
   ],
   "source": [
    "Python is \"awesome\".\n",
    "Let's learn it!\n"
   ]
  },
  {
   "cell_type": "markdown",
   "id": "bfca40c3-aabd-4588-98dd-680ffe9f2cdf",
   "metadata": {},
   "source": [
    "# 6. Strings Are Immutable\n",
    "    Strings in Python cannot be changed after they are created. Any modification creates a new string.\n",
    "\n",
    "Example:"
   ]
  },
  {
   "cell_type": "code",
   "execution_count": null,
   "id": "2d98246d-cbf0-4e53-8684-3950216d36af",
   "metadata": {},
   "outputs": [],
   "source": [
    "s = \"Hello\"\n",
    "s = s + \" World\"\n",
    "print(s)  # Output: Hello World\n"
   ]
  },
  {
   "cell_type": "markdown",
   "id": "e06d4768-1288-4cef-99cf-a877927bbb76",
   "metadata": {},
   "source": [
    "# 7. Formatted Strings\n",
    "     You can include variables directly in strings for better readability.\n",
    "\n",
    "a) Using f-strings:"
   ]
  },
  {
   "cell_type": "code",
   "execution_count": 42,
   "id": "c31b2adf-5af3-4b93-b0b9-1c005aa818ea",
   "metadata": {},
   "outputs": [
    {
     "name": "stdout",
     "output_type": "stream",
     "text": [
      "My name is John and I am 25 years old.\n"
     ]
    }
   ],
   "source": [
    "name = \"John\"\n",
    "age = 25\n",
    "print(f\"My name is {name} and I am {age} years old.\")\n"
   ]
  },
  {
   "cell_type": "markdown",
   "id": "ca133ad2-ae49-48d5-8f1a-cf572da11833",
   "metadata": {},
   "source": [
    "b) Using format()"
   ]
  },
  {
   "cell_type": "code",
   "execution_count": 46,
   "id": "1a12cdc0-4c79-4040-834e-c701c508511a",
   "metadata": {},
   "outputs": [
    {
     "name": "stdout",
     "output_type": "stream",
     "text": [
      "My name is John and I am 25 years old.\n"
     ]
    }
   ],
   "source": [
    "print(\"My name is {} and I am {} years old.\".format(\"John\", 25))\n"
   ]
  },
  {
   "cell_type": "code",
   "execution_count": null,
   "id": "7577f149-86c9-47d4-84b6-716c5881a45a",
   "metadata": {},
   "outputs": [],
   "source": []
  }
 ],
 "metadata": {
  "kernelspec": {
   "display_name": "Python 3 (ipykernel)",
   "language": "python",
   "name": "python3"
  },
  "language_info": {
   "codemirror_mode": {
    "name": "ipython",
    "version": 3
   },
   "file_extension": ".py",
   "mimetype": "text/x-python",
   "name": "python",
   "nbconvert_exporter": "python",
   "pygments_lexer": "ipython3",
   "version": "3.12.3"
  }
 },
 "nbformat": 4,
 "nbformat_minor": 5
}
