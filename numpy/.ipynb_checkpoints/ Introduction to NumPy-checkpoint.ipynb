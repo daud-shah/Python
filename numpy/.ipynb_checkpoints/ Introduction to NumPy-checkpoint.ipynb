{
 "cells": [
  {
   "cell_type": "markdown",
   "id": "d0741d60-3b38-46e6-8449-b1f80e411405",
   "metadata": {},
   "source": [
    "# 1️⃣ Introduction to NumPy\n",
    "## ❓ What is NumPy?\n",
    "NumPy (Numerical Python) is a Python library used for numerical computations. It is faster than Python lists and provides powerful tools for data manipulation, mathematical operations, and machine learning."
   ]
  },
  {
   "cell_type": "markdown",
   "id": "985b7b8e-fcae-402d-ac57-428151f6d639",
   "metadata": {},
   "source": [
    "### 🔧 Installing & Importing NumPy\n",
    "If you haven’t installed NumPy yet, install it using:\n",
    "\n",
    "pip install numpy"
   ]
  },
  {
   "cell_type": "code",
   "execution_count": null,
   "id": "1e050080-bb1f-414d-b97e-942ccaf8c81e",
   "metadata": {},
   "outputs": [],
   "source": [
    "import numpy as np"
   ]
  },
  {
   "cell_type": "markdown",
   "id": "09b840cd-8b88-448b-82e9-e8faa70285c6",
   "metadata": {},
   "source": [
    "### 2️⃣ Creating NumPy Arrays\n",
    "NumPy arrays are more efficient than Python lists.\n",
    "\n",
    "#### ✅ Creating a 1D Array\n",
    "📌 Explanation: This creates a one-dimensional (1D) array from a list."
   ]
  },
  {
   "cell_type": "code",
   "execution_count": null,
   "id": "2f7a0932-9f66-4a5b-b433-c53900998ce2",
   "metadata": {},
   "outputs": [],
   "source": [
    "arr1 = np.array([1, 2, 3, 4, 5])\n",
    "print(arr1)"
   ]
  },
  {
   "cell_type": "markdown",
   "id": "0b4175a6-ff71-43cf-9bdc-ee5df8056313",
   "metadata": {},
   "source": [
    "#### ✅ Creating a 2D Array (Matrix)\n",
    "📌 Explanation: This creates a 2D array (also called a matrix).\n"
   ]
  },
  {
   "cell_type": "code",
   "execution_count": null,
   "id": "e690f0a9-9d79-440e-926c-7bee4788bf8b",
   "metadata": {},
   "outputs": [],
   "source": [
    "arr2 = np.array([[1, 2, 3], [4, 5, 6]])\n",
    "print(arr2)"
   ]
  },
  {
   "cell_type": "markdown",
   "id": "f3fd8bbe-d7c9-479f-a48d-28ddfe9996d6",
   "metadata": {},
   "source": [
    "#### ✅ Checking Array Shape, Size, and Type\n",
    "📌 Explanation:\n",
    "\n",
    ".shape → Returns dimensions (rows, columns).\n",
    "\n",
    ".size → Total number of elements.\n",
    "\n",
    ".dtype → Returns data type (int32, float64, etc.)."
   ]
  },
  {
   "cell_type": "code",
   "execution_count": null,
   "id": "54354847-bca3-4c9a-ae26-6e333580d9e4",
   "metadata": {},
   "outputs": [],
   "source": [
    "print(arr2.shape)  # (rows, columns)\n",
    "print(arr2.size)   # Total elements\n",
    "print(arr2.dtype)  # Data type of elements"
   ]
  },
  {
   "cell_type": "markdown",
   "id": "bed40d8b-5fec-4fab-8d86-bc5d51d73c23",
   "metadata": {},
   "source": [
    "### 3️⃣ Indexing & Slicing (Selecting Data)\n",
    "#### ✅ Accessing Elements (Indexing)\n",
    "📌 Explanation: Arrays use zero-based indexing ([row, column])."
   ]
  },
  {
   "cell_type": "code",
   "execution_count": null,
   "id": "14f1152d-e5e1-4947-9941-d93095376406",
   "metadata": {},
   "outputs": [],
   "source": [
    "arr = np.array([[10, 20, 30], [40, 50, 60]])\n",
    "print(arr[1, 2])  # Access row index 1, column index 2\n"
   ]
  },
  {
   "cell_type": "markdown",
   "id": "14e2a437-3977-491d-b9e4-a298d239d7bc",
   "metadata": {},
   "source": [
    "#### Slicing Rows & Columns\n",
    "📌 Explanation: : means select all elements in that dimension."
   ]
  },
  {
   "cell_type": "code",
   "execution_count": null,
   "id": "b9e42b1f-f749-44f5-9cb7-ecc82869c33f",
   "metadata": {},
   "outputs": [],
   "source": [
    "print(arr[:, 1])  # Get the second column\n",
    "print(arr[1, :])  # Get the second row"
   ]
  },
  {
   "cell_type": "markdown",
   "id": "3a57aa84-2eed-4f64-8372-46995a2acfab",
   "metadata": {},
   "source": [
    "### 4️⃣ Creating Special Arrays\n",
    "#### ✅ Creating an Array of Zeros\n",
    "📌 Explanation: Creates a 3x3 array filled with zeros."
   ]
  },
  {
   "cell_type": "code",
   "execution_count": null,
   "id": "254ba695-539e-42c8-88c0-e8274101999e",
   "metadata": {},
   "outputs": [],
   "source": [
    "zeros_arr = np.zeros((3, 3))\n",
    "print(zeros_arr)"
   ]
  },
  {
   "cell_type": "markdown",
   "id": "7481671c-ce3b-4ab3-a5bd-93339d752b50",
   "metadata": {},
   "source": [
    "#### ✅ Creating an Array of Ones\n",
    "📌 Explanation: Creates a 2x4 array filled with ones."
   ]
  },
  {
   "cell_type": "code",
   "execution_count": null,
   "id": "5de4dab3-a7f1-4bb0-a42f-a53580394af5",
   "metadata": {},
   "outputs": [],
   "source": [
    "ones_arr = np.ones((2, 4))\n",
    "print(ones_arr)"
   ]
  },
  {
   "cell_type": "markdown",
   "id": "0348c5ba-9b1a-442b-b2a0-8db5ce0050ff",
   "metadata": {},
   "source": [
    "#### ✅ Creating an Identity Matrix (Used in ML)\n",
    "📌 Explanation: Identity matrix (I) is used in linear algebra and ML."
   ]
  },
  {
   "cell_type": "code",
   "execution_count": null,
   "id": "23102301-a919-4f1f-8cf4-ce7ef036c264",
   "metadata": {},
   "outputs": [],
   "source": [
    "identity_matrix = np.eye(3)\n",
    "print(identity_matrix)\n"
   ]
  },
  {
   "cell_type": "markdown",
   "id": "2866e0f3-55a2-49c3-b20c-cdb5f1f82457",
   "metadata": {},
   "source": [
    "### 5️⃣ Random Number Generation (For ML Models)\n",
    "#### ✅ Generating Random Numbers (0 to 1)\n",
    "📌 Explanation:\n",
    "np.random.rand(3,3) → Generates a 3x3 array of random numbers in [0,1].\n",
    "\n",
    "np.random.seed(42) → Ensures the same random numbers are generated each time."
   ]
  },
  {
   "cell_type": "code",
   "execution_count": null,
   "id": "ba28c0d9-664c-44b6-bd54-5499caa76af8",
   "metadata": {},
   "outputs": [],
   "source": [
    "np.random.seed(42)  # Ensures reproducibility\n",
    "rand_arr = np.random.rand(3, 3)\n",
    "print(rand_arr)\n"
   ]
  },
  {
   "cell_type": "markdown",
   "id": "5c2ef177-67a9-4d3e-92df-363f14a2a519",
   "metadata": {},
   "source": [
    "#### ✅ Generating Random Integers\n",
    "📌 Explanation: Generates random integers between 1 and 100 in a 3x3 array."
   ]
  },
  {
   "cell_type": "code",
   "execution_count": null,
   "id": "c858039a-58ea-467e-bf7e-d00a0876f614",
   "metadata": {},
   "outputs": [],
   "source": [
    "rand_ints = np.random.randint(1, 100, (3, 3))\n",
    "print(rand_ints)\n"
   ]
  },
  {
   "cell_type": "markdown",
   "id": "a1f146b7-1df4-4c5d-a3b9-10660e597992",
   "metadata": {},
   "source": [
    "### 6️⃣ Vectorized Operations (Fast Computation)\n",
    "Vectorization makes ML models faster by avoiding slow Python loops.\n",
    "\n",
    "#### ✅ Element-wise Addition & Multiplication\n",
    "📌 Explanation:\n",
    "\n",
    "NumPy applies operations element-wise (much faster than loops)."
   ]
  },
  {
   "cell_type": "code",
   "execution_count": null,
   "id": "8634bfec-fda1-4c8d-a7d7-b7c542d11db6",
   "metadata": {},
   "outputs": [],
   "source": [
    "a = np.array([1, 2, 3])\n",
    "b = np.array([4, 5, 6])\n",
    "print(a + b)  # [5, 7, 9]\n",
    "print(a * b)  # [4, 10, 18]"
   ]
  },
  {
   "cell_type": "markdown",
   "id": "4a638fb3-3f3e-457c-9732-ff2a99d2fc2c",
   "metadata": {},
   "source": [
    "#### ✅ Broadcasting (Adding a Scalar to an Array)\n",
    "📌 Explanation: NumPy broadcasts 10 to each element."
   ]
  },
  {
   "cell_type": "code",
   "execution_count": null,
   "id": "bd296fa4-5c40-4c3b-aa1e-abbceff5451f",
   "metadata": {},
   "outputs": [],
   "source": [
    "a = np.array([1, 2, 3])\n",
    "print(a + 10)  # [11, 12, 13]"
   ]
  },
  {
   "cell_type": "markdown",
   "id": "a4f03ea9-7c04-476d-b5a9-a5dce899bbe8",
   "metadata": {},
   "source": [
    "### 7️⃣ Linear Algebra for Machine Learning\n",
    "Many ML algorithms use linear algebra (e.g., deep learning, PCA, regression).\n",
    "\n",
    "#### ✅ Dot Product (Used in Neural Networks)\n",
    "📌 Explanation:\n",
    "\n",
    "Used in matrix multiplication (essential for deep learning)."
   ]
  },
  {
   "cell_type": "code",
   "execution_count": null,
   "id": "fb7b9a80-52a5-4b04-bcb5-711f744f25b2",
   "metadata": {},
   "outputs": [],
   "source": [
    "A = np.array([[1, 2], [3, 4]])\n",
    "B = np.array([[5, 6], [7, 8]])\n",
    "print(np.dot(A, B))\n"
   ]
  },
  {
   "cell_type": "markdown",
   "id": "5b8ea1da-25a6-4cb2-82db-8bf4c3c0bad9",
   "metadata": {},
   "source": [
    "#### ✅ Matrix Inverse (Used in Regression)\n",
    "📌 Explanation: np.linalg.inv() computes the inverse of a matrix."
   ]
  },
  {
   "cell_type": "code",
   "execution_count": null,
   "id": "347d3d38-b6e1-4a9e-9b8d-b80915f4e56e",
   "metadata": {},
   "outputs": [],
   "source": [
    "A_inv = np.linalg.inv(A)\n",
    "print(A_inv)"
   ]
  },
  {
   "cell_type": "markdown",
   "id": "8b9ded75-7594-4d83-b4e9-c226f203eb56",
   "metadata": {},
   "source": [
    "#### ✅ Eigenvalues & Eigenvectors (Used in PCA for ML)\n",
    "📌 Explanation: Used in Principal Component Analysis (PCA) for Dimensionality Reduction."
   ]
  },
  {
   "cell_type": "code",
   "execution_count": null,
   "id": "39057a6f-7cad-4a10-91dd-0d63bff5ae11",
   "metadata": {},
   "outputs": [],
   "source": [
    "eig_values, eig_vectors = np.linalg.eig(A)\n",
    "print(eig_values)\n",
    "print(eig_vectors)"
   ]
  },
  {
   "cell_type": "markdown",
   "id": "dc20e61d-013d-4838-bc5d-41825054644f",
   "metadata": {},
   "source": [
    "### 8️⃣ Practical Machine Learning Applications\n",
    "#### ✅ Feature Scaling (Standardization)\n",
    "ML models work better when features are on the same scale.\n",
    "📌 Explanation:\n",
    "\n",
    "This converts X into a zero-mean, unit-variance dataset."
   ]
  },
  {
   "cell_type": "code",
   "execution_count": null,
   "id": "0633b1b3-09d7-4bd5-874b-a0fe246624bb",
   "metadata": {},
   "outputs": [],
   "source": [
    "X = np.array([10, 20, 30, 40, 50])\n",
    "X_scaled = (X - np.mean(X)) / np.std(X)\n",
    "print(X_scaled)\n"
   ]
  },
  {
   "cell_type": "markdown",
   "id": "72db5699-dc46-44de-95a9-5ff4f4aee015",
   "metadata": {},
   "source": [
    "#### ✅ Mean Squared Error (Regression Loss Function)\n",
    "📌 Explanation:\n",
    "\n",
    "MSE (Mean Squared Error) is used in Regression models to measure error."
   ]
  },
  {
   "cell_type": "code",
   "execution_count": null,
   "id": "92e50824-c93a-403f-ae30-7f403c483f08",
   "metadata": {},
   "outputs": [],
   "source": [
    "y_true = np.array([3, -0.5, 2, 7])\n",
    "y_pred = np.array([2.5, 0.0, 2, 8])\n",
    "mse = np.mean((y_true - y_pred) ** 2)\n",
    "print(\"MSE:\", mse)\n"
   ]
  },
  {
   "cell_type": "markdown",
   "id": "de6185b2-4f72-4eb4-896b-a11e75e495fa",
   "metadata": {},
   "source": [
    "### 📌 Summary of Key Takeaways\n",
    ">✅ NumPy is essential for Machine Learning.\n",
    ">\n",
    ">✅ Vectorized operations boost performance.\n",
    ">\n",
    ">✅ Linear algebra functions power ML algorithms.\n",
    ">\n",
    ">✅ NumPy is widely used for data preprocessing & model evaluation."
   ]
  },
  {
   "cell_type": "code",
   "execution_count": null,
   "id": "d448bf06-5458-4667-967f-595c5128f8f6",
   "metadata": {},
   "outputs": [],
   "source": []
  }
 ],
 "metadata": {
  "kernelspec": {
   "display_name": "Python 3 (ipykernel)",
   "language": "python",
   "name": "python3"
  },
  "language_info": {
   "codemirror_mode": {
    "name": "ipython",
    "version": 3
   },
   "file_extension": ".py",
   "mimetype": "text/x-python",
   "name": "python",
   "nbconvert_exporter": "python",
   "pygments_lexer": "ipython3",
   "version": "3.12.3"
  }
 },
 "nbformat": 4,
 "nbformat_minor": 5
}
