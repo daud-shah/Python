{
 "cells": [
  {
   "cell_type": "markdown",
   "id": "4000ef60-2b01-40a4-951d-afd8813ca00c",
   "metadata": {},
   "source": [
    "### Class 2 "
   ]
  },
  {
   "cell_type": "markdown",
   "id": "80c3150c-ac0f-4456-bc97-fcbdf6a325cb",
   "metadata": {},
   "source": [
    "1. Input and Output\n",
    "2. Variables\n",
    "3. Data Types\n",
    "4. Operators"
   ]
  },
  {
   "cell_type": "markdown",
   "id": "27034d40-b5a9-4754-955e-ee5ab749d8a6",
   "metadata": {},
   "source": [
    " ##### Input and Output:\n",
    "        >Using input() to take user input\n",
    "        >Printing output using print() and formatted strings\n",
    "Purpose of f-strings:\n",
    "\n",
    "F-strings allow you to include variables, expressions, or calculations directly inside a string by prefixing the string with f or F and enclosing the expressions in curly braces {}."
   ]
  },
  {
   "cell_type": "code",
   "execution_count": null,
   "id": "c441ea7b-38b8-42e6-9028-6f3b602dc844",
   "metadata": {},
   "outputs": [],
   "source": []
  },
  {
   "cell_type": "code",
   "execution_count": null,
   "id": "3ea2b59b-8a44-4479-94b1-281a13c8e30f",
   "metadata": {},
   "outputs": [],
   "source": [
    "num1 = int(input(\"Enter the first number: \"))\n",
    "num2 = int(input(\"Enter the second number: \"))\n",
    "print(f\"The sum of {num1} and {num2} is {num1 + num2}.\")"
   ]
  },
  {
   "cell_type": "markdown",
   "id": "2efd62fb-7949-4a68-a453-cc731f55fabd",
   "metadata": {},
   "source": [
    "#### Variables:-\n",
    " Definition: A variable is a name that is used to store data in memory. It acts as a container for data values.\n",
    " \n",
    " Purpose: Variables help us to use and manipulate data throughout a program."
   ]
  },
  {
   "cell_type": "code",
   "execution_count": null,
   "id": "6993d518-51ab-43b7-a1b2-0fd3b4a06a60",
   "metadata": {},
   "outputs": [],
   "source": [
    "x = 10\n",
    "name = \"Ali\"\n",
    "print(x)  # Output: 10\n",
    "print(name)  # Output: Ali"
   ]
  },
  {
   "cell_type": "markdown",
   "id": "62ae004e-4b12-4024-9b2e-3d1e413239ab",
   "metadata": {},
   "source": [
    " Assigning Values to Variables \n",
    " \n",
    " Syntax:\n",
    " \n",
    "  variable_name = value \n",
    "  \n",
    "  The = symbol is used for assignment.\n"
   ]
  },
  {
   "cell_type": "code",
   "execution_count": null,
   "id": "d2c2fa92-2209-46c8-8613-dee781b8675f",
   "metadata": {},
   "outputs": [],
   "source": [
    "age = 25\n",
    "price = 99.99\n",
    "greeting = \"Hello, World!\"\n",
    "is_active = True"
   ]
  },
  {
   "cell_type": "markdown",
   "id": "871f39b6-c3d4-422d-bd8e-315e23bb5cb6",
   "metadata": {},
   "source": [
    "### Naming Rules for Variables\n",
    "\n",
    "Variable names must:\n",
    "\n",
    " >Start with a letter (A-Z, a-z) or an underscore _.\n",
    "\n",
    " >Follow with letters, digits (0-9), or underscores.\n",
    "\n",
    " >Be case-sensitive (myVariable and MyVariable are different).\n",
    "\n",
    " Examples of Valid Variable Names:\n",
    "\n",
    " >age, _name, total_price, isStudent\n",
    " \n",
    " Examples of Invalid Variable Names:\n",
    "\n",
    ">2name (cannot start with a digit)\n",
    "\n",
    ">my-name (hyphens are not allowed)\n",
    "\n",
    ">class (reserved keyword in Python)"
   ]
  },
  {
   "cell_type": "markdown",
   "id": "51b48671-182e-4e62-a98e-d8668b0be902",
   "metadata": {},
   "source": [
    " ### Example"
   ]
  },
  {
   "cell_type": "code",
   "execution_count": null,
   "id": "13895c5a-1102-48e8-a8ac-f0f1829dfc6c",
   "metadata": {},
   "outputs": [],
   "source": [
    "name =\n",
    "age =\n",
    "is_student ="
   ]
  },
  {
   "cell_type": "code",
   "execution_count": null,
   "id": "2ae88324-759c-431f-b91a-d7e1b66ece73",
   "metadata": {},
   "outputs": [],
   "source": [
    "print(f\"My name is {name}, I am {age} years old, and it is {is_student} that I am a student.\")"
   ]
  },
  {
   "cell_type": "markdown",
   "id": "45335408-4a69-4aac-9a9b-257b35d1abe9",
   "metadata": {},
   "source": [
    "### 2.Data Types:-\n",
    "\n",
    "       In Python, data types define the kind of values a variable can hold. Below are the most common data types.\n",
    "        >Numeric Types\n",
    "         >int (Integer):\n",
    "            Whole numbers (positive or negative) without a decimal point.\n",
    "            Example:"
   ]
  },
  {
   "cell_type": "code",
   "execution_count": null,
   "id": "7fbeb3fd-d09e-41c8-b396-4f7487b85160",
   "metadata": {},
   "outputs": [],
   "source": [
    "age = 25  # Integer\n",
    "print(type(age))  # Output: <class 'int'>"
   ]
  },
  {
   "cell_type": "markdown",
   "id": "9361db75-d99b-4805-b975-da309677a6ac",
   "metadata": {},
   "source": [
    "##### float (Floating Point):\n",
    "         Numbers with a decimal point.\n",
    "         Example:"
   ]
  },
  {
   "cell_type": "code",
   "execution_count": null,
   "id": "7fe53b74-0491-49a9-8d1b-e17d38fdad64",
   "metadata": {},
   "outputs": [],
   "source": [
    "price = 99.99  # Floating-point number\n",
    "print(type(price))  # Output: <class 'float'>"
   ]
  },
  {
   "cell_type": "markdown",
   "id": "11c5aabd-f2f1-4d83-b417-891cea1bd8aa",
   "metadata": {},
   "source": [
    "##### Text Type:\n",
    "    >str (String)\n",
    "      A sequence of characters enclosed in single, double, or triple quotes.\n",
    "      Example:\n"
   ]
  },
  {
   "cell_type": "code",
   "execution_count": null,
   "id": "2aa4b4ad-7d06-4d65-8117-3641a0651214",
   "metadata": {},
   "outputs": [],
   "source": [
    "name = \"Ali\"  # String\n",
    "print(type(name))  # Output: <class 'str'>"
   ]
  },
  {
   "cell_type": "markdown",
   "id": "cadaadb2-3f10-421a-9772-f3649dbed6b4",
   "metadata": {},
   "source": [
    "##### Boolean Type:\n",
    "      bool (Boolean)\n",
    "       .Represents True or False values.\n",
    "       .Often used for conditions and comparisons.\n",
    "       .Example:"
   ]
  },
  {
   "cell_type": "code",
   "execution_count": null,
   "id": "042baf52-b210-463e-9fae-a7f80965cb9e",
   "metadata": {},
   "outputs": [],
   "source": [
    "is_active = True  # Boolean\n",
    "print(ty(is_active))  # Output: <class 'bool'>"
   ]
  },
  {
   "cell_type": "markdown",
   "id": "5e241077-fb8f-40d5-923d-1f8629c4eee7",
   "metadata": {},
   "source": [
    "##### Type Checking with type():\n",
    "       The type() function is used to check the data type of a variable."
   ]
  },
  {
   "cell_type": "code",
   "execution_count": null,
   "id": "1154eeaf-6ebd-4de8-b250-5738175d70c2",
   "metadata": {},
   "outputs": [],
   "source": [
    "num = 10\n",
    "text = \"Hello\"\n",
    "flag = False\n",
    "\n",
    "print(type(num))  # Output: <class 'int'>\n",
    "print(type(text))  # Output: <class 'str'>\n",
    "print(type(flag))  # Output: <class 'bool'>"
   ]
  },
  {
   "cell_type": "markdown",
   "id": "e160d52b-619b-4f43-a430-af60046de6a9",
   "metadata": {},
   "source": [
    "##### Type Conversion\n",
    "        Python allows converting values from one data type to another using functions like int(), float(), and str().\n",
    "\n",
    "       1.Convert to Integer (int())\n",
    "       2.Convert to Float (float())\n",
    "       3.Convert to String (str())"
   ]
  },
  {
   "cell_type": "code",
   "execution_count": null,
   "id": "b47e2177-d64e-4c81-bb38-b9aae9b59368",
   "metadata": {},
   "outputs": [],
   "source": [
    "# Converting a string to an integer\n",
    "num_str = \"50\"\n",
    "num = int(num_str)\n",
    "print(num + 10)"
   ]
  },
  {
   "cell_type": "code",
   "execution_count": null,
   "id": "0dd1bbe7-4ced-4a3b-b1c3-aeb0d73d6ee6",
   "metadata": {},
   "outputs": [],
   "source": [
    "# Converting an integer to a float\n",
    "num = 25\n",
    "num_float = float(num)\n",
    "print(num_float)"
   ]
  },
  {
   "cell_type": "code",
   "execution_count": null,
   "id": "f099725f-61fe-4488-9d54-e56fb8766d25",
   "metadata": {},
   "outputs": [],
   "source": [
    "# Converting an integer to a string\n",
    "num = 100\n",
    "num_str = str(num)\n",
    "print(\"The number is \" + num_str)"
   ]
  },
  {
   "cell_type": "markdown",
   "id": "e6214855",
   "metadata": {},
   "source": [
    "# Operators in Python\n",
    "\n",
    "## 1. Arithmetic Operators\n",
    "Used for basic mathematical operations:\n",
    "\n",
    "| Operator | Description           | Example          |\n",
    "|----------|-----------------------|------------------|\n",
    "| `+`      | Addition              | `5 + 3 = 8`      |\n",
    "| `-`      | Subtraction           | `5 - 3 = 2`      |\n",
    "| `*`      | Multiplication        | `5 * 3 = 15`     |\n",
    "| `/`      | Division              | `5 / 3 = 1.6667` |\n",
    "| `%`      | Modulus (remainder)   | `5 % 3 = 2`      |\n",
    "| `**`     | Exponentiation        | `5 ** 3 = 125`   |\n",
    "| `//`     | Floor Division        | `5 // 3 = 1`     |\n",
    "\n",
    "---\n",
    "\n",
    "## 2. Comparison Operators\n",
    "Used to compare values. The result is `True` or `False`:\n",
    "\n",
    "| Operator | Description              | Example         |\n",
    "|----------|--------------------------|-----------------|\n",
    "| `==`     | Equal to                 | `5 == 3 → False`|\n",
    "| `!=`     | Not equal to             | `5 != 3 → True` |\n",
    "| `>`      | Greater than             | `5 > 3 → True`  |\n",
    "| `<`      | Less than                | `5 < 3 → False` |\n",
    "| `>=`     | Greater than or equal to | `5 >= 3 → True` |\n",
    "| `<=`     | Less than or equal to    | `5 <= 3 → False`|\n",
    "\n",
    "---\n",
    "\n",
    "## 3. Logical Operators\n",
    "Used to combine conditional statements:\n",
    "\n",
    "| Operator | Description                     | Example                   |\n",
    "|----------|---------------------------------|---------------------------|\n",
    "| `and`    | Returns `True` if both are true | `(5 > 3) and (3 > 1)` → `True` |\n",
    "| `or`     | Returns `True` if one is true   | `(5 > 3) or (3 < 1)` → `True`  |\n",
    "| `not`    | Negates the condition           | `not(5 > 3)` → `False`   |\n",
    "\n",
    "---\n",
    "\n",
    "## 4. Assignment Operators\n",
    "Used to assign values to variables:\n",
    "\n",
    "| Operator | Description                 | Example          |\n",
    "|----------|-----------------------------|------------------|\n",
    "| `=`      | Assign                     | `x = 5`          |\n",
    "| `+=`     | Add and assign             | `x += 3` → `x = x + 3` |\n",
    "| `-=`     | Subtract and assign        | `x -= 3` → `x = x - 3` |\n",
    "| `*=`     | Multiply and assign        | `x *= 3` → `x = x * 3` |\n",
    "| `/=`     | Divide and assign          | `x /= 3` → `x = x / 3` |\n",
    "| `%=`     | Modulus and assign         | `x %= 3` → `x = x % 3` |\n",
    "| `**=`    | Exponent and assign        | `x **= 3` → `x = x ** 3` |\n",
    "| `//=`    | Floor division and assign  | `x //= 3` → `x = x // 3` |\n",
    "\n",
    "---\n",
    "\n",
    "## 5. Bitwise Operators\n",
    "Used for bit-level operations:\n",
    "\n",
    "| Operator | Description              | Example         |\n",
    "|----------|--------------------------|-----------------|\n",
    "| `&`      | Bitwise AND              | `5 & 3 → 1`     |\n",
    "| `|`      | Bitwise OR               | `5 | 3 → 7`     |\n",
    "| `^`      | Bitwise XOR              | `5 ^ 3 → 6`     |\n",
    "| `~`      | Bitwise NOT              | `~5 → -6`       |\n",
    "| `<<`     | Left shift               | `5 << 1 → 10`   |\n",
    "| `>>`     | Right shift              | `5 >> 1 → 2`    |\n",
    "\n",
    "---\n",
    "\n",
    "## 6. Membership Operators\n",
    "Used to test membership in sequences:\n",
    "\n",
    "| Operator | Description                  | Example                     |\n",
    "|----------|------------------------------|-----------------------------|\n",
    "| `in`     | True if value is in sequence | `'a' in 'apple' → True`     |\n",
    "| `not in` | True if value is not in seq  | `'z' not in 'apple' → True`|\n",
    "\n",
    "---\n",
    "\n",
    "## 7. Identity Operators\n",
    "Used to compare memory locations:\n",
    "\n",
    "| Operator | Description                      | Example                    |\n",
    "|----------|----------------------------------|----------------------------|\n",
    "| `is`     | True if same object              | `x is y`                  |\n",
    "| `is not` | True if not same object          | `x is not y`              |\n"
   ]
  },
  {
   "cell_type": "markdown",
   "id": "9849d182-83ff-4340-93bb-95240b096acd",
   "metadata": {},
   "source": [
    "Practice Examples\n",
    "Type Checking:\n",
    "\n",
    "Write a program to create variables of each type (int, float, str, bool) and use type() to display their data types.\n",
    "\n",
    "Type Conversion:\n",
    "\n",
    "Take two numbers as input (both strings), convert them to integers, and display their sum.\n",
    "Convert a floating-point number to a string and print it in a sentence."
   ]
  },
  {
   "cell_type": "markdown",
   "id": "970c052d-694e-4f2b-9cee-49b84d518244",
   "metadata": {},
   "source": [
    "Q1. Swapping Values Without a Third Variable"
   ]
  },
  {
   "cell_type": "code",
   "execution_count": null,
   "id": "1c834f10",
   "metadata": {},
   "outputs": [],
   "source": [
    "#code "
   ]
  },
  {
   "cell_type": "markdown",
   "id": "459b87e2-56d0-4f74-b5d7-aca78d7656fa",
   "metadata": {},
   "source": [
    "#### Assignment 1: \n",
    "    Create and Print Variables:\n",
    "    Create variables of the following types and assign appropriate values:\n",
    "    Integer (int),Float (float),String (str),Boolean (bool)\n",
    "    Print the value and data type of each variable using type().\n"
   ]
  },
  {
   "cell_type": "code",
   "execution_count": null,
   "id": "14217db1-92d0-4c30-a5ad-7d0a26c56622",
   "metadata": {},
   "outputs": [],
   "source": [
    "#code"
   ]
  },
  {
   "cell_type": "markdown",
   "id": "8545582a-7ddb-46c5-979e-8d9cee9f59b3",
   "metadata": {},
   "source": [
    "#### Assignment 2:\n",
    "      Dynamic Typing in Python:\n",
    "      >Assign an integer value to a variable.\n",
    "      >Reassign a string value to the same variable.\n",
    "      >Print the variable's value and type before and after reassignment."
   ]
  },
  {
   "cell_type": "code",
   "execution_count": null,
   "id": "85cf17c6-9237-4da9-8669-ef1f9a5bf338",
   "metadata": {},
   "outputs": [],
   "source": [
    "#code"
   ]
  },
  {
   "cell_type": "markdown",
   "id": "a5ab35d6-4a87-4db0-b3be-47574aab643e",
   "metadata": {},
   "source": [
    "#### Assignment 3:\n",
    "    1.Operators:\n",
    "     Write a program that performs the following operations on two variables, a = 15 and b = 5:\n",
    "     Addition\n",
    "     Subtraction\n",
    "     Multiplication\n",
    "     Division\n",
    "     Modulus\n",
    "     Floor Division\n",
    "     Exponentiation\n",
    "     Print the results of each operation.\n",
    "    2.Relational Operators :\n",
    "    Create two variables, x = 10 and y = 20.\n",
    "    Use relational operators (>, <, >=, <=, ==, !=) to compare the values of x and y.\n",
    "    Print the result of each comparison.\n",
    "    "
   ]
  },
  {
   "cell_type": "code",
   "execution_count": null,
   "id": "ab1328fc-90ff-44cd-804d-b58f8f594dc7",
   "metadata": {},
   "outputs": [],
   "source": [
    "#code"
   ]
  }
 ],
 "metadata": {
  "kernelspec": {
   "display_name": "Python 3 (ipykernel)",
   "language": "python",
   "name": "python3"
  },
  "language_info": {
   "codemirror_mode": {
    "name": "ipython",
    "version": 3
   },
   "file_extension": ".py",
   "mimetype": "text/x-python",
   "name": "python",
   "nbconvert_exporter": "python",
   "pygments_lexer": "ipython3",
   "version": "3.12.3"
  }
 },
 "nbformat": 4,
 "nbformat_minor": 5
}
